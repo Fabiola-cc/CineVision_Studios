{
 "cells": [
  {
   "cell_type": "markdown",
   "metadata": {},
   "source": [
    "# CineVision Studios\n",
    "## Análisis Exploratorio\n",
    "\n",
    "Fabiola Contreras, 22787\n",
    "María José Villafuerte, 22129"
   ]
  },
  {
   "cell_type": "code",
   "execution_count": 3,
   "metadata": {},
   "outputs": [
    {
     "name": "stdout",
     "output_type": "stream",
     "text": [
      "\n",
      "Frecuencias para genres:\n",
      "genres\n",
      "Drama                                          521\n",
      "Comedy                                         440\n",
      "Horror                                         230\n",
      "Drama|Romance                                  211\n",
      "Horror|Thriller                                205\n",
      "                                              ... \n",
      "Music|Romance                                    1\n",
      "Adventure|Animation|Fantasy|TV Movie|Comedy      1\n",
      "Horror|Mystery|Family                            1\n",
      "Action|Thriller|Drama|Adventure                  1\n",
      "Western|Drama|Mystery                            1\n",
      "Name: count, Length: 2345, dtype: int64\n"
     ]
    }
   ],
   "source": [
    "import numpy as np\n",
    "import pandas as pd\n",
    "import matplotlib\n",
    "import matplotlib.pyplot as plt\n",
    "import scipy.stats as stats\n",
    "import statsmodels.stats.diagnostic as diag\n",
    "import statsmodels.api as sm"
   ]
  },
  {
   "cell_type": "markdown",
   "metadata": {},
   "source": [
    "Lectura de datos de CSV"
   ]
  },
  {
   "cell_type": "code",
   "execution_count": null,
   "metadata": {},
   "outputs": [],
   "source": [
    "datos=pd.read_csv(\"movies.csv\", encoding=\"latin1\")"
   ]
  },
  {
   "cell_type": "markdown",
   "metadata": {},
   "source": [
    "### Análisis de variables"
   ]
  },
  {
   "cell_type": "code",
   "execution_count": null,
   "metadata": {},
   "outputs": [],
   "source": [
    "# Variables cuantitativas\n",
    "columnas_cuantitativas = datos.select_dtypes(include=['float64', 'int64']).columns.tolist()\n",
    "\n",
    "# Variables cualitativas\n",
    "columnas_cualitativas = datos.select_dtypes(include=['object', 'category']).columns.tolist()"
   ]
  },
  {
   "cell_type": "markdown",
   "metadata": {},
   "source": [
    "## Tablas de frecuencia"
   ]
  },
  {
   "cell_type": "code",
   "execution_count": 21,
   "metadata": {},
   "outputs": [
    {
     "name": "stdout",
     "output_type": "stream",
     "text": [
      "\n",
      "Frecuencias para genres:\n",
      "genres\n",
      "Drama                                          521\n",
      "Comedy                                         440\n",
      "Horror                                         230\n",
      "Drama|Romance                                  211\n",
      "Horror|Thriller                                205\n",
      "                                              ... \n",
      "Music|Romance                                    1\n",
      "Adventure|Animation|Fantasy|TV Movie|Comedy      1\n",
      "Horror|Mystery|Family                            1\n",
      "Action|Thriller|Drama|Adventure                  1\n",
      "Western|Drama|Mystery                            1\n",
      "Name: count, Length: 2345, dtype: int64\n"
     ]
    }
   ],
   "source": [
    "print(f\"\\nFrecuencias para {columnas_cualitativas[0]}:\")\n",
    "print(datos[columnas_cualitativas[0]].value_counts())"
   ]
  },
  {
   "cell_type": "code",
   "execution_count": 22,
   "metadata": {},
   "outputs": [
    {
     "name": "stdout",
     "output_type": "stream",
     "text": [
      "\n",
      "Frecuencias para homePage:\n",
      "homePage\n",
      "http://www.naruto-movie.com/                                                                          6\n",
      "http://www.thehungergames.movie/                                                                      4\n",
      "http://www.kungfupanda.com/                                                                           3\n",
      "http://wwws.warnerbros.co.jp/rurouni-kenshin/index.html                                               3\n",
      "http://www.p3m.jp/                                                                                    3\n",
      "                                                                                                     ..\n",
      "https://www.netflix.com/title/81332722                                                                1\n",
      "https://www.paramountplus.com/movies/reno-911-the-hunt-for-qanon/4lSjY6_RqRGLtpUqpgUKWtH2EFZKcmZf/    1\n",
      "https://www.netflix.com/title/81478916                                                                1\n",
      "https://www.netflix.com/title/81520054                                                                1\n",
      "https://www.uphe.com/movies/8-mile                                                                    1\n",
      "Name: count, Length: 4125, dtype: int64\n"
     ]
    }
   ],
   "source": [
    "print(f\"\\nFrecuencias para {columnas_cualitativas[1]}:\")\n",
    "print(datos[columnas_cualitativas[1]].value_counts())"
   ]
  },
  {
   "cell_type": "code",
   "execution_count": 23,
   "metadata": {},
   "outputs": [
    {
     "name": "stdout",
     "output_type": "stream",
     "text": [
      "\n",
      "Frecuencias para productionCompany:\n",
      "productionCompany\n",
      "Paramount                                                   55\n",
      "Universal Pictures                                          50\n",
      "Warner Bros. Pictures                                       37\n",
      "Toei Animation                                              34\n",
      "DreamWorks Animation                                        33\n",
      "                                                            ..\n",
      "Jepchu Producciones                                          1\n",
      "Malvalanda                                                   1\n",
      "Elefantec Global|MarVista Entertainment|Particular Crowd     1\n",
      "Caracol Televisión|Dago García Producciones                  1\n",
      "SND                                                          1\n",
      "Name: count, Length: 8163, dtype: int64\n"
     ]
    }
   ],
   "source": [
    "print(f\"\\nFrecuencias para {columnas_cualitativas[2]}:\")\n",
    "print(datos[columnas_cualitativas[2]].value_counts())"
   ]
  },
  {
   "cell_type": "code",
   "execution_count": 24,
   "metadata": {},
   "outputs": [
    {
     "name": "stdout",
     "output_type": "stream",
     "text": [
      "\n",
      "Frecuencias para productionCompanyCountry:\n",
      "productionCompanyCountry\n",
      "US                          997\n",
      "US|US                       792\n",
      "US|US|US                    452\n",
      "|US                         292\n",
      "US|                         265\n",
      "                           ... \n",
      "|GB|US|US|GB|CH||GB|GB        1\n",
      "|JP|JP|JP|JP|JP|JP|JP|JP      1\n",
      "US|US|JP|GB                   1\n",
      "US|US|GB|GB|US|US             1\n",
      "US|US|CA|US                   1\n",
      "Name: count, Length: 2354, dtype: int64\n"
     ]
    }
   ],
   "source": [
    "print(f\"\\nFrecuencias para {columnas_cualitativas[3]}:\")\n",
    "print(datos[columnas_cualitativas[3]].value_counts())"
   ]
  },
  {
   "cell_type": "code",
   "execution_count": 25,
   "metadata": {},
   "outputs": [
    {
     "name": "stdout",
     "output_type": "stream",
     "text": [
      "\n",
      "Frecuencias para productionCountry:\n",
      "productionCountry\n",
      "United States of America                                                                                                    4971\n",
      "Japan                                                                                                                        613\n",
      "United Kingdom|United States of America                                                                                      339\n",
      "United Kingdom                                                                                                               294\n",
      "Canada|United States of America                                                                                              223\n",
      "                                                                                                                            ... \n",
      "Australia|China|Denmark|United States of America                                                                               1\n",
      "Sweden|United Kingdom                                                                                                          1\n",
      "United States of America|Germany|Czech Republic                                                                                1\n",
      "Italy|Mexico                                                                                                                   1\n",
      "Argentina|Denmark|Finland|France|Germany|Iceland|Italy|Netherlands|Norway|Sweden|United Kingdom|United States of America       1\n",
      "Name: count, Length: 879, dtype: int64\n"
     ]
    }
   ],
   "source": [
    "print(f\"\\nFrecuencias para {columnas_cualitativas[4]}:\")\n",
    "print(datos[columnas_cualitativas[4]].value_counts())"
   ]
  },
  {
   "cell_type": "code",
   "execution_count": 26,
   "metadata": {},
   "outputs": [
    {
     "name": "stdout",
     "output_type": "stream",
     "text": [
      "\n",
      "Frecuencias para video:\n",
      "video\n",
      "False    9430\n",
      "True       84\n",
      "Name: count, dtype: int64\n"
     ]
    }
   ],
   "source": [
    "print(f\"\\nFrecuencias para {columnas_cualitativas[5]}:\")\n",
    "print(datos[columnas_cualitativas[5]].value_counts())"
   ]
  },
  {
   "cell_type": "code",
   "execution_count": 27,
   "metadata": {},
   "outputs": [
    {
     "name": "stdout",
     "output_type": "stream",
     "text": [
      "\n",
      "Frecuencias para director:\n",
      "director\n",
      "Steven Spielberg              29\n",
      "Clint Eastwood                28\n",
      "Ridley Scott                  23\n",
      "Martin Scorsese               19\n",
      "Steven Soderbergh             19\n",
      "                              ..\n",
      "Fernando Ayllón                1\n",
      "Gray Hofmeyr|Ziggy Hofmeyr     1\n",
      "Izu Ojukwu                     1\n",
      "Rodrigo Van Der Put            1\n",
      "Ale McHaddo                    1\n",
      "Name: count, Length: 5330, dtype: int64\n"
     ]
    }
   ],
   "source": [
    "print(f\"\\nFrecuencias para {columnas_cualitativas[6]}:\")\n",
    "print(datos[columnas_cualitativas[6]].value_counts())"
   ]
  },
  {
   "cell_type": "code",
   "execution_count": 28,
   "metadata": {},
   "outputs": [
    {
     "name": "stdout",
     "output_type": "stream",
     "text": [
      "\n",
      "Frecuencias para actors:\n",
      "actors\n",
      "FALSE                                                                                                                                                                                                                                                                                                                                                                480\n",
      "TRUE                                                                                                                                                                                                                                                                                                                                                                   6\n",
      "Kim Nam-joon|Kim Seok-jin|Min Yoon-gi|Jung Ho-seok|Park Ji-min|Kim Tae-hyung|Jeon Jung-kook                                                                                                                                                                                                                                                                            3\n",
      "Rica Matsumoto|Ikue Otani|Aoi Yuki|Minami Tsuda|Mamoru Miyano|Megumi Hayashibara|Shin-ichiro Miki|Inuko Inuyama|Unsho Ishizuka|Misato Fukuen|Wasabi Mizuta|Akeno Watanabe|Mika Kanai|Takeshi Tsuruno|Satomi Ishihara|Mao Daichi|Shoko Nakagawa|Koichi Yamadera|Tsuguo Mogami|Sayuri|Kiyotaka Furushima|Kensuke Sato|Nana Mizuki|Shosuke Tanihara|Hideki Takahashi      2\n",
      "Pierre Coffin                                                                                                                                                                                                                                                                                                                                                          2\n",
      "                                                                                                                                                                                                                                                                                                                                                                    ... \n",
      "Héctor Bonilla|Benny Ibarra|Jacqueline Bracamontes|Renata Notni|Alex Rose Wiesel|Angélica María|Tina Romero|Juan Pablo de Santiago|Eduardo Tanús|Tina French|Natália Subtil|Yulian Diaz                                                                                                                                                                                1\n",
      "Ayla Rae Neal|Sonya Krueger|Ashley Angione|Tickwanya Jones|Paris Anderson|Sabrina Fest|Sarah J. Bartholomew|Tommi Rose|Ashley Nichols|Frankie Kevich|Jessica Ruth Bell|Adrienne Sterman                                                                                                                                                                                1\n",
      "1.716|5.383|3.27|1.321|6.387|7.811|2.941|12.847|7.321|10.076|4.445|5.47|2.82|1.22|4.21|7.398|6.249|6.402|0.6|4.451|3.458|4.997|1.4|1.38|1.025|3.78|6.895|0.6                                                                                                                                                                                                           1\n",
      "Tara Strong|Montserrat Hernandez|David Kaye|Daryl Sabara|Yuri Lowenthal|Fred Tatasciore|Dee Bradley Baker|Travis Willingham|Roger Craig Smith                                                                                                                                                                                                                          1\n",
      "Trey Parker|Matt Stone|April Stewart|Mona Marshall|Kimberly Brooks|Adrien Beard|Delilah Kujala|Betty Boogie Parker|Nanami Iwasaki                                                                                                                                                                                                                                      1\n",
      "Name: count, Length: 9423, dtype: int64\n"
     ]
    }
   ],
   "source": [
    "print(f\"\\nFrecuencias para {columnas_cualitativas[7]}:\")\n",
    "print(datos[columnas_cualitativas[7]].value_counts())"
   ]
  },
  {
   "cell_type": "code",
   "execution_count": 29,
   "metadata": {},
   "outputs": [
    {
     "name": "stdout",
     "output_type": "stream",
     "text": [
      "\n",
      "Frecuencias para actorsPopularity:\n",
      "actorsPopularity\n",
      "0.6                                                                                                                                                                                                                                                                                                                                                                                       16\n",
      "0.6|0.6|0.6|0.6|0.6                                                                                                                                                                                                                                                                                                                                                                       11\n",
      "0.6|0.6                                                                                                                                                                                                                                                                                                                                                                                    7\n",
      "0.6|0.6|0.6                                                                                                                                                                                                                                                                                                                                                                                6\n",
      "0.6|0.6|0.6|0.6                                                                                                                                                                                                                                                                                                                                                                            5\n",
      "                                                                                                                                                                                                                                                                                                                                                                                          ..\n",
      "12.842|0.6|3.84|5.449|9.823|8.708|11.493|2.47|7.435                                                                                                                                                                                                                                                                                                                                        1\n",
      "0.6|0.6|2.044|0.6|0.6|0.6                                                                                                                                                                                                                                                                                                                                                                  1\n",
      "0.6|0.988|0.6|0.6|0.6|0.6|0.98|0.6|0.6|0.6|0.6|0.6|0.6|0.6|0.6|0.6|0.6|0.6|0.6|0.6|0.6|0.6|0.6|0.6|0.6|0.6|0.6|0.6|0.6|0.6                                                                                                                                                                                                                                                                 1\n",
      "0.6|0.6|0.6|1.434|2.65|1.165|3.396|0.6                                                                                                                                                                                                                                                                                                                                                     1\n",
      "36.009|6.276|16.228|11.103|13.004|4.742|3.001|13.1|5.906|5.593|1.441|5.348|0.98|2.206|5.459|1.462|34.047|2.777|1.55|1.351|1.216|9.23|1.266|1.4|1.36|3.17|1.467|1.094|0.6|2.989|1.919|0.694|0.6|4.086|1.008|2.112|0.6|0.98|0.6|5.249|0.6|0.6|4.707|0.6|0.695|0.6|0.6|0.6|0.6|0.6|0.6|0.6|0.6|1.258|0.98|0.828|1.7|4.218|0.6|0.6|1.473|2.863|0.6|0.6|0.84|1.513|1.22|0.694|0.612|0.6|0.6     1\n",
      "Name: count, Length: 9855, dtype: int64\n"
     ]
    }
   ],
   "source": [
    "print(f\"\\nFrecuencias para {columnas_cualitativas[8]}:\")\n",
    "print(datos[columnas_cualitativas[8]].value_counts())"
   ]
  },
  {
   "cell_type": "code",
   "execution_count": 30,
   "metadata": {},
   "outputs": [
    {
     "name": "stdout",
     "output_type": "stream",
     "text": [
      "\n",
      "Frecuencias para actorsCharacter:\n",
      "actorsCharacter\n",
      "||||                                                                                                                                                                                                                                                                                                                                                                 17\n",
      "|||||                                                                                                                                                                                                                                                                                                                                                                16\n",
      "||||||                                                                                                                                                                                                                                                                                                                                                               16\n",
      "|||                                                                                                                                                                                                                                                                                                                                                                  14\n",
      "|                                                                                                                                                                                                                                                                                                                                                                    13\n",
      "                                                                                                                                                                                                                                                                                                                                                                     ..\n",
      "Don Servando|Fran|Alma||Gala (voice)||||Memo|Gina|Gio|Joao                                                                                                                                                                                                                                                                                                            1\n",
      "882670                                                                                                                                                                                                                                                                                                                                                                1\n",
      "Ben Tennyson|Gwen Tennyson|Max Tennyson|Heatblast|Alien Force Ben|Alien X|Rath|Cannonbolt|Diamondhead                                                                                                                                                                                                                                                                 1\n",
      "Amina|Danjuma|Zumbura|Sarki|Madaki|Zaria|Aladi Ameh|Barde|Young Amina|Kabarkai|Regent Of Igala|Musa|Mero|Young Zaria|Young Aladi Ameh|Young Danjuma|Soldier|Garba|Emissary Chief Warrior|Ibrahim|Idaro|Jakadiya|Rekiya|Ado|Ogaga|Priest Ijuma|Lady In Red|Garuba (Double)|Waziri|Palace Woman                                                                         1\n",
      "Marlin (voice)|Dory (voice)|Nemo (voice)|Gill (voice)|Bloat (voice)|Peach (voice)|Gurgle (voice)|Bubbles (voice)|Deb / Flo (voice)|Jacques (voice)|Nigel (voice)|Crush (voice)|Coral (voice)|Squirt (voice)|Mr. Ray (voice)|Bruce (voice)|Anchor (voice)|Chum (voice)|Dentist (voice)|Darla (voice)|Tad (voice)|Pearl (voice)|Sheldon (voice)|Fish School (voice)     1\n",
      "Name: count, Length: 9796, dtype: int64\n"
     ]
    }
   ],
   "source": [
    "print(f\"\\nFrecuencias para {columnas_cualitativas[9]}:\")\n",
    "print(datos[columnas_cualitativas[9]].value_counts())"
   ]
  },
  {
   "cell_type": "code",
   "execution_count": 31,
   "metadata": {},
   "outputs": [
    {
     "name": "stdout",
     "output_type": "stream",
     "text": [
      "\n",
      "Frecuencias para originalTitle:\n",
      "originalTitle\n",
      "Pinocchio                                    4\n",
      "Cinderella                                   3\n",
      "Les Misérables                               3\n",
      "Carrie                                       3\n",
      "Prey                                         3\n",
      "                                            ..\n",
      "Camp Confidential: America's Secret Nazis    1\n",
      "Les Rois de l'arnaque                        1\n",
      "Beni Çok Sev                                 1\n",
      "Puff: Wonders of the Reef                    1\n",
      "14 Peaks: Nothing Is Impossible              1\n",
      "Name: count, Length: 9760, dtype: int64\n"
     ]
    }
   ],
   "source": [
    "print(f\"\\nFrecuencias para {columnas_cualitativas[10]}:\")\n",
    "print(datos[columnas_cualitativas[10]].value_counts())"
   ]
  },
  {
   "cell_type": "code",
   "execution_count": 32,
   "metadata": {},
   "outputs": [
    {
     "name": "stdout",
     "output_type": "stream",
     "text": [
      "\n",
      "Frecuencias para title:\n",
      "title\n",
      "Pinocchio                                       4\n",
      "Cinderella                                      4\n",
      "Halloween                                       3\n",
      "Fallen                                          3\n",
      "Godzilla                                        3\n",
      "                                               ..\n",
      "Lords of Scam                                   1\n",
      "Love Me Instead                                 1\n",
      "Puff: Wonders of the Reef                       1\n",
      "14 Peaks: Nothing Is Impossible                 1\n",
      "Catalina la Catrina: especial Día de Muertos    1\n",
      "Name: count, Length: 9697, dtype: int64\n"
     ]
    }
   ],
   "source": [
    "print(f\"\\nFrecuencias para {columnas_cualitativas[11]}:\")\n",
    "print(datos[columnas_cualitativas[11]].value_counts())"
   ]
  },
  {
   "cell_type": "code",
   "execution_count": 33,
   "metadata": {},
   "outputs": [
    {
     "name": "stdout",
     "output_type": "stream",
     "text": [
      "\n",
      "Frecuencias para originalLanguage:\n",
      "originalLanguage\n",
      "en    7772\n",
      "ja     644\n",
      "es     425\n",
      "fr     271\n",
      "ko     167\n",
      "zh     119\n",
      "it     100\n",
      "de      84\n",
      "cn      80\n",
      "ru      67\n",
      "pt      43\n",
      "no      28\n",
      "sv      27\n",
      "hi      27\n",
      "da      27\n",
      "nl      18\n",
      "th      17\n",
      "pl      15\n",
      "id      12\n",
      "tr      10\n",
      "fi       8\n",
      "tl       5\n",
      "te       5\n",
      "sr       4\n",
      "is       4\n",
      "fa       3\n",
      "cs       2\n",
      "el       2\n",
      "ro       2\n",
      "uk       2\n",
      "nb       1\n",
      "bn       1\n",
      "he       1\n",
      "eu       1\n",
      "ms       1\n",
      "ar       1\n",
      "la       1\n",
      "ta       1\n",
      "ml       1\n",
      "ca       1\n",
      "Name: count, dtype: int64\n"
     ]
    }
   ],
   "source": [
    "print(f\"\\nFrecuencias para {columnas_cualitativas[12]}:\")\n",
    "print(datos[columnas_cualitativas[12]].value_counts())"
   ]
  },
  {
   "cell_type": "code",
   "execution_count": 34,
   "metadata": {},
   "outputs": [
    {
     "name": "stdout",
     "output_type": "stream",
     "text": [
      "\n",
      "Frecuencias para releaseDate:\n",
      "releaseDate\n",
      "2021-02-12    15\n",
      "2021-10-08    15\n",
      "2021-10-01    14\n",
      "2021-11-12    12\n",
      "2019-11-08    11\n",
      "              ..\n",
      "1985-02-20     1\n",
      "2004-12-15     1\n",
      "2000-09-28     1\n",
      "1996-12-12     1\n",
      "2021-08-30     1\n",
      "Name: count, Length: 5568, dtype: int64\n"
     ]
    }
   ],
   "source": [
    "print(f\"\\nFrecuencias para {columnas_cualitativas[13]}:\")\n",
    "print(datos[columnas_cualitativas[13]].value_counts())"
   ]
  },
  {
   "cell_type": "code",
   "execution_count": 35,
   "metadata": {},
   "outputs": [
    {
     "name": "stdout",
     "output_type": "stream",
     "text": [
      "\n",
      "Frecuencias para castWomenAmount:\n",
      "castWomenAmount\n",
      "3                                                               1055\n",
      "4                                                               1038\n",
      "5                                                                893\n",
      "2                                                                873\n",
      "6                                                                776\n",
      "                                                                ... \n",
      "897243                                                             1\n",
      "899599                                                             1\n",
      "917263                                                             1\n",
      "Phantastische Harry Potter Momente - Das große SAT.1 Spezial       1\n",
      "922162                                                             1\n",
      "Name: count, Length: 222, dtype: int64\n"
     ]
    }
   ],
   "source": [
    "print(f\"\\nFrecuencias para {columnas_cualitativas[14]}:\")\n",
    "print(datos[columnas_cualitativas[14]].value_counts())"
   ]
  },
  {
   "cell_type": "code",
   "execution_count": 36,
   "metadata": {},
   "outputs": [
    {
     "name": "stdout",
     "output_type": "stream",
     "text": [
      "\n",
      "Frecuencias para castMenAmount:\n",
      "castMenAmount\n",
      "7                                                               546\n",
      "10                                                              501\n",
      "8                                                               493\n",
      "9                                                               492\n",
      "5                                                               477\n",
      "                                                               ... \n",
      "912223                                                            1\n",
      "Making The Witcher: Season 2                                      1\n",
      "Phantastische Harry Potter Momente - Das große SAT.1 Spezial      1\n",
      "922017                                                            1\n",
      "Five Nights at Freddy's: Home Breach                              1\n",
      "Name: count, Length: 612, dtype: int64\n"
     ]
    }
   ],
   "source": [
    "print(f\"\\nFrecuencias para {columnas_cualitativas[15]}:\")\n",
    "print(datos[columnas_cualitativas[15]].value_counts())"
   ]
  },
  {
   "cell_type": "markdown",
   "metadata": {},
   "source": [
    "### Preguntas Clave"
   ]
  },
  {
   "cell_type": "markdown",
   "metadata": {},
   "source": [
    "1.\t¿Cuáles son las 10 películas que contaron con más presupuesto?\n",
    "2.\t¿Cuáles son las 10 películas que más ingresos tuvieron?\n",
    "3.\t¿Cuál es la película que más votos tuvo?\n",
    "4.\t¿Cuál es la peor película de acuerdo con los votos de todos los usuarios?\n",
    "5.\t¿Cuántas películas se hicieron en cada año? ¿En qué año se hicieron más películas? Haga un gráfico de barras\n",
    "6.\t¿Cuál es el género principal de las 20 películas más recientes? ¿Cuál es el género principal que predomina en el conjunto de datos? Represéntelo usando un gráfico.\n",
    "        a. ¿A qué género principal pertenecen las películas más largas?\n",
    "7.\t¿Las películas de qué genero principal obtuvieron mayores ganancias?\n",
    "8.\t¿La cantidad de actores influye en los ingresos de las películas? ¿se han hecho películas con más actores en los últimos años?\n",
    "9.\t¿Es posible que la cantidad de hombres y mujeres en el reparto influya en la popularidad y los ingresos de las películas?\n",
    "10.\t¿Quiénes son los directores que hicieron las 20 películas mejor calificadas?\n",
    "11.\t¿Cómo se correlacionan los presupuestos con los ingresos? ¿Los altos presupuestos\n",
    "significan altos ingresos? Haga los gráficos que necesite, histograma, diagrama de\n",
    "dispersión\n",
    "12.\t¿Se asocian ciertos meses de lanzamiento con mejores ingresos?\n",
    "13.\t¿En qué meses se han visto los lanzamientos con mejores ingresos? ¿cuántas películas, en promedio, se han lanzado por mes?\n",
    "14.\t¿Cómo se correlacionan las calificaciones con el éxito comercial?\n",
    "15.\t¿La popularidad del elenco está directamente correlacionada con el éxito de taquilla?\n",
    "16.\t¿Qué estrategias de marketing, como videos promocionales o páginas oficiales, generan mejores resultados?"
   ]
  },
  {
   "cell_type": "code",
   "execution_count": null,
   "metadata": {},
   "outputs": [
    {
     "name": "stdout",
     "output_type": "stream",
     "text": [
      "                             title       revenue\n",
      "3210                        Avatar  2.847246e+09\n",
      "5952             Avengers: Endgame  2.797801e+09\n",
      "307                        Titanic  2.187464e+09\n",
      "4947  Star Wars: The Force Awakens  2.068224e+09\n",
      "5953        Avengers: Infinity War  2.046240e+09\n",
      "4914                Jurassic World  1.671713e+09\n",
      "7134                 The Lion King  1.667635e+09\n",
      "9049       Spider-Man: No Way Home  1.631853e+09\n",
      "3397                  The Avengers  1.518816e+09\n",
      "5087                     Furious 7  1.515048e+09\n"
     ]
    }
   ],
   "source": [
    "print(\"¿Cuáles son las 10 películas que más ingresos tuvieron?\")\n",
    "top_10_ingresos = datos[['title', 'revenue']].sort_values(by='revenue', ascending=False).head(10)\n",
    "print(top_10_ingresos)\n"
   ]
  },
  {
   "cell_type": "code",
   "execution_count": 40,
   "metadata": {},
   "outputs": [
    {
     "name": "stdout",
     "output_type": "stream",
     "text": [
      "¿Cuál es la peor película de acuerdo con los votos de todos los usuarios?\n",
      "                                                  title  voteAvg\n",
      "9786  DAKAICHI -I'm Being Harassed by the Sexiest Ma...      1.3\n",
      "9791                           My Father's Other Family      1.5\n",
      "9706                  DRagON BALL P2 2wice dropda bbeet      1.5\n",
      "9996                                         El Paseo 6      1.5\n",
      "9944                Harry Potter: Different Perspective      1.5\n",
      "8834                                  Scream for Summer      2.0\n",
      "9893                                    Death She Wrote      2.0\n",
      "9971                            El tiempo del no tiempo      2.0\n",
      "7613                                         Sing Along      2.0\n",
      "7630                                      Tar Pits Film      2.0\n"
     ]
    }
   ],
   "source": [
    "print(\"¿Cuál es la peor película de acuerdo con los votos de todos los usuarios?\")\n",
    "bottom_10_votes = datos[['title', 'voteAvg']].sort_values(by='voteAvg', ascending=True).head(10)\n",
    "print(bottom_10_votes)"
   ]
  },
  {
   "cell_type": "code",
   "execution_count": null,
   "metadata": {},
   "outputs": [],
   "source": [
    "print(\"¿Cuál es el género principal de las 20 películas más recientes? ¿Cuál es el género principal que predomina en el conjunto de datos? Represéntelo usando un gráfico.\")\n",
    "\n",
    "print(\"¿A qué género principal pertenecen las películas más largas?\")\n"
   ]
  },
  {
   "cell_type": "code",
   "execution_count": null,
   "metadata": {},
   "outputs": [],
   "source": [
    "print(\"¿La cantidad de actores influye en los ingresos de las películas? ¿se han hecho películas con más actores en los últimos años?\")"
   ]
  },
  {
   "cell_type": "code",
   "execution_count": null,
   "metadata": {},
   "outputs": [],
   "source": [
    "print(\"¿Quiénes son los directores que hicieron las 20 películas mejor calificadas?\")"
   ]
  },
  {
   "cell_type": "code",
   "execution_count": null,
   "metadata": {},
   "outputs": [],
   "source": [
    "print(\"¿Se asocian ciertos meses de lanzamiento con mejores ingresos?\")"
   ]
  },
  {
   "cell_type": "code",
   "execution_count": null,
   "metadata": {},
   "outputs": [],
   "source": [
    "print(\"¿Cómo se correlacionan las calificaciones con el éxito comercial?\")"
   ]
  },
  {
   "cell_type": "code",
   "execution_count": null,
   "metadata": {},
   "outputs": [],
   "source": [
    "print(\"¿Qué estrategias de marketing, como videos promocionales o páginas oficiales, generan mejores resultados?\")"
   ]
  }
 ],
 "metadata": {
  "kernelspec": {
   "display_name": "Python 3",
   "language": "python",
   "name": "python3"
  },
  "language_info": {
   "codemirror_mode": {
    "name": "ipython",
    "version": 3
   },
   "file_extension": ".py",
   "mimetype": "text/x-python",
   "name": "python",
   "nbconvert_exporter": "python",
   "pygments_lexer": "ipython3",
   "version": "3.12.5"
  }
 },
 "nbformat": 4,
 "nbformat_minor": 2
}
