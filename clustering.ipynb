{
 "cells": [
  {
   "cell_type": "code",
   "execution_count": 1,
   "metadata": {},
   "outputs": [],
   "source": [
    "import numpy as np\n",
    "import pandas as pd\n",
    "import matplotlib\n",
    "import matplotlib.pyplot as plt\n",
    "import scipy.stats as stats\n",
    "import statsmodels.stats.diagnostic as diag\n",
    "import statsmodels.api as sm\n",
    "import seaborn as sb\n",
    "from collections import Counter\n",
    "\n",
    "from sklearn import datasets\n",
    "import sklearn.cluster as cluster\n",
    "import sklearn.metrics as metrics\n",
    "import sklearn.preprocessing\n",
    "import scipy.cluster.hierarchy as sch\n",
    "import skfuzzy as fuzz\n",
    "import pylab\n",
    "import sklearn.mixture as mixture\n",
    "import pyclustertend \n",
    "import random"
   ]
  },
  {
   "cell_type": "code",
   "execution_count": 2,
   "metadata": {},
   "outputs": [],
   "source": [
    "# Configuración para mostrar todas las columnas\n",
    "pd.set_option('display.max_columns', None)\n",
    "# Configuración para mostrar todas las filas\n",
    "pd.set_option('display.max_rows', None)"
   ]
  },
  {
   "cell_type": "code",
   "execution_count": 3,
   "metadata": {},
   "outputs": [],
   "source": [
    "datos=pd.read_csv(\"movies.csv\", encoding=\"latin1\")"
   ]
  },
  {
   "cell_type": "markdown",
   "metadata": {},
   "source": [
    "## Revisión de datos\n",
    "\n",
    "El clustering se va a enfocar en las columnas cuantitativas, es por ello vamos a examinar los datos e identificar las que son útiles para hacerlo."
   ]
  },
  {
   "cell_type": "code",
   "execution_count": 5,
   "metadata": {},
   "outputs": [
    {
     "name": "stdout",
     "output_type": "stream",
     "text": [
      "id                           6.624452e+10\n",
      "budget                       1.341514e+15\n",
      "revenue                      2.237580e+16\n",
      "runtime                      7.716078e+02\n",
      "popularity                   4.697170e+04\n",
      "voteAvg                      9.687953e-01\n",
      "voteCount                    6.575104e+06\n",
      "genresAmount                 1.333021e+00\n",
      "productionCoAmount           6.450267e+00\n",
      "productionCountriesAmount    9.072706e+00\n",
      "actorsAmount                 1.383846e+09\n",
      "dtype: float64\n",
      "                  id        budget       revenue       runtime    popularity  \\\n",
      "count   10000.000000  1.000000e+04  1.000000e+04  10000.000000  10000.000000   \n",
      "mean   249876.829300  1.855163e+07  5.673793e+07    100.268100     51.393907   \n",
      "std    257380.109004  3.662669e+07  1.495854e+08     27.777829    216.729552   \n",
      "min         5.000000  0.000000e+00  0.000000e+00      0.000000      4.258000   \n",
      "25%     12286.500000  0.000000e+00  0.000000e+00     90.000000     14.577750   \n",
      "50%    152558.000000  5.000000e+05  1.631245e+05    100.000000     21.905500   \n",
      "75%    452021.750000  2.000000e+07  4.479661e+07    113.000000     40.654000   \n",
      "max    922260.000000  3.800000e+08  2.847246e+09    750.000000  11474.647000   \n",
      "\n",
      "            voteAvg     voteCount  genresAmount  productionCoAmount  \\\n",
      "count  10000.000000  10000.000000  10000.000000        10000.000000   \n",
      "mean       6.483490   1342.381800      2.596500            3.171400   \n",
      "std        0.984274   2564.196637      1.154565            2.539738   \n",
      "min        1.300000      1.000000      0.000000            0.000000   \n",
      "25%        5.900000    120.000000      2.000000            2.000000   \n",
      "50%        6.500000    415.000000      3.000000            3.000000   \n",
      "75%        7.200000   1316.000000      3.000000            4.000000   \n",
      "max       10.000000  30788.000000     16.000000           89.000000   \n",
      "\n",
      "       productionCountriesAmount   actorsAmount  \n",
      "count               10000.000000   10000.000000  \n",
      "mean                    1.751000    2147.666600  \n",
      "std                     3.012093   37200.075802  \n",
      "min                     0.000000       0.000000  \n",
      "25%                     1.000000      13.000000  \n",
      "50%                     1.000000      21.000000  \n",
      "75%                     2.000000      36.000000  \n",
      "max                   155.000000  919590.000000  \n"
     ]
    }
   ],
   "source": [
    "columnas_cuantitativas = datos.select_dtypes(include=['float64', 'int64']).columns.tolist()\n",
    "columnas_cuantitativas\n",
    "print(datos[columnas_cuantitativas].var())  # Variables con varianza baja pueden ser eliminadas\n",
    "\n",
    "print(datos[columnas_cuantitativas].describe())  # Variables con varianza baja pueden ser eliminadas\n"
   ]
  },
  {
   "cell_type": "code",
   "execution_count": 6,
   "metadata": {},
   "outputs": [
    {
     "data": {
      "text/html": [
       "<div>\n",
       "<style scoped>\n",
       "    .dataframe tbody tr th:only-of-type {\n",
       "        vertical-align: middle;\n",
       "    }\n",
       "\n",
       "    .dataframe tbody tr th {\n",
       "        vertical-align: top;\n",
       "    }\n",
       "\n",
       "    .dataframe thead th {\n",
       "        text-align: right;\n",
       "    }\n",
       "</style>\n",
       "<table border=\"1\" class=\"dataframe\">\n",
       "  <thead>\n",
       "    <tr style=\"text-align: right;\">\n",
       "      <th></th>\n",
       "      <th>budget</th>\n",
       "      <th>revenue</th>\n",
       "      <th>runtime</th>\n",
       "      <th>popularity</th>\n",
       "      <th>voteAvg</th>\n",
       "    </tr>\n",
       "  </thead>\n",
       "  <tbody>\n",
       "    <tr>\n",
       "      <th>count</th>\n",
       "      <td>1.000000e+04</td>\n",
       "      <td>1.000000e+04</td>\n",
       "      <td>10000.000000</td>\n",
       "      <td>10000.000000</td>\n",
       "      <td>10000.000000</td>\n",
       "    </tr>\n",
       "    <tr>\n",
       "      <th>mean</th>\n",
       "      <td>1.855163e+07</td>\n",
       "      <td>5.673793e+07</td>\n",
       "      <td>100.268100</td>\n",
       "      <td>51.393907</td>\n",
       "      <td>6.483490</td>\n",
       "    </tr>\n",
       "    <tr>\n",
       "      <th>std</th>\n",
       "      <td>3.662669e+07</td>\n",
       "      <td>1.495854e+08</td>\n",
       "      <td>27.777829</td>\n",
       "      <td>216.729552</td>\n",
       "      <td>0.984274</td>\n",
       "    </tr>\n",
       "    <tr>\n",
       "      <th>min</th>\n",
       "      <td>0.000000e+00</td>\n",
       "      <td>0.000000e+00</td>\n",
       "      <td>0.000000</td>\n",
       "      <td>4.258000</td>\n",
       "      <td>1.300000</td>\n",
       "    </tr>\n",
       "    <tr>\n",
       "      <th>25%</th>\n",
       "      <td>0.000000e+00</td>\n",
       "      <td>0.000000e+00</td>\n",
       "      <td>90.000000</td>\n",
       "      <td>14.577750</td>\n",
       "      <td>5.900000</td>\n",
       "    </tr>\n",
       "    <tr>\n",
       "      <th>50%</th>\n",
       "      <td>5.000000e+05</td>\n",
       "      <td>1.631245e+05</td>\n",
       "      <td>100.000000</td>\n",
       "      <td>21.905500</td>\n",
       "      <td>6.500000</td>\n",
       "    </tr>\n",
       "    <tr>\n",
       "      <th>75%</th>\n",
       "      <td>2.000000e+07</td>\n",
       "      <td>4.479661e+07</td>\n",
       "      <td>113.000000</td>\n",
       "      <td>40.654000</td>\n",
       "      <td>7.200000</td>\n",
       "    </tr>\n",
       "    <tr>\n",
       "      <th>max</th>\n",
       "      <td>3.800000e+08</td>\n",
       "      <td>2.847246e+09</td>\n",
       "      <td>750.000000</td>\n",
       "      <td>11474.647000</td>\n",
       "      <td>10.000000</td>\n",
       "    </tr>\n",
       "  </tbody>\n",
       "</table>\n",
       "</div>"
      ],
      "text/plain": [
       "             budget       revenue       runtime    popularity       voteAvg\n",
       "count  1.000000e+04  1.000000e+04  10000.000000  10000.000000  10000.000000\n",
       "mean   1.855163e+07  5.673793e+07    100.268100     51.393907      6.483490\n",
       "std    3.662669e+07  1.495854e+08     27.777829    216.729552      0.984274\n",
       "min    0.000000e+00  0.000000e+00      0.000000      4.258000      1.300000\n",
       "25%    0.000000e+00  0.000000e+00     90.000000     14.577750      5.900000\n",
       "50%    5.000000e+05  1.631245e+05    100.000000     21.905500      6.500000\n",
       "75%    2.000000e+07  4.479661e+07    113.000000     40.654000      7.200000\n",
       "max    3.800000e+08  2.847246e+09    750.000000  11474.647000     10.000000"
      ]
     },
     "execution_count": 6,
     "metadata": {},
     "output_type": "execute_result"
    }
   ],
   "source": [
    "# Tomar solo los datos a comparar\n",
    "X = datos[['budget', 'revenue', 'runtime', 'popularity', 'voteAvg']]\n",
    "X.describe()"
   ]
  },
  {
   "cell_type": "markdown",
   "metadata": {},
   "source": [
    "## Tendencia del Agrupamiento"
   ]
  },
  {
   "cell_type": "markdown",
   "metadata": {},
   "source": [
    "#### Estadístico Hopkins"
   ]
  },
  {
   "cell_type": "code",
   "execution_count": 7,
   "metadata": {},
   "outputs": [
    {
     "name": "stdout",
     "output_type": "stream",
     "text": [
      "Estadística de Hopkins: 0.012778995118613313\n"
     ]
    }
   ],
   "source": [
    "# Fijar la semilla para obtener resultados reproducibles\n",
    "random.seed(123)\n",
    "\n",
    "# Escalar los datos para normalización\n",
    "X_scale = sklearn.preprocessing.scale(X)\n",
    "\n",
    "# Calcular la estadística de Hopkins\n",
    "hopkins_stat = pyclustertend.hopkins(X_scale, len(X_scale))\n",
    "print(f'Estadística de Hopkins: {hopkins_stat}')"
   ]
  },
  {
   "cell_type": "markdown",
   "metadata": {},
   "source": [
    "#### VAT"
   ]
  },
  {
   "cell_type": "code",
   "execution_count": null,
   "metadata": {},
   "outputs": [],
   "source": [
    "# Con los valores normalizados\n",
    "pyclustertend.vat(X_scale)"
   ]
  },
  {
   "cell_type": "code",
   "execution_count": null,
   "metadata": {},
   "outputs": [],
   "source": [
    "# Con la escala original\n",
    "pyclustertend.vat(X)"
   ]
  },
  {
   "cell_type": "markdown",
   "metadata": {},
   "source": [
    "## ¿Cuántos grupos formamos?\n",
    "#### Gráfico de codo"
   ]
  }
 ],
 "metadata": {
  "kernelspec": {
   "display_name": "Python 3",
   "language": "python",
   "name": "python3"
  },
  "language_info": {
   "codemirror_mode": {
    "name": "ipython",
    "version": 3
   },
   "file_extension": ".py",
   "mimetype": "text/x-python",
   "name": "python",
   "nbconvert_exporter": "python",
   "pygments_lexer": "ipython3",
   "version": "3.12.5"
  }
 },
 "nbformat": 4,
 "nbformat_minor": 2
}
